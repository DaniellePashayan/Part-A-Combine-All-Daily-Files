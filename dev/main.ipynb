{
 "cells": [
  {
   "cell_type": "code",
   "execution_count": 2,
   "metadata": {},
   "outputs": [
    {
     "name": "stdout",
     "output_type": "stream",
     "text": [
      "Running CEMS Claim Status using CEMS\n",
      "Running CHHA Claim Status using CHHA\n",
      "Running Claim Status using claim_status\n",
      "Running Clinical Appeals using clinical_appeals\n",
      "Running Clinical Denials using clinical_denials\n",
      "Running Insurance Verification using insurance_verification\n",
      "Running Lab using lab\n",
      "Running Mini-Reg using minireg\n",
      "Running Preregistration using prereg\n",
      "Running STARs using \n"
     ]
    }
   ],
   "source": [
    "import importlib\n",
    "import json\n",
    "\n",
    "month = '06'\n",
    "year = '2023'\n",
    "\n",
    "\n",
    "def run_use_case(module_name, use_case_data, month, year):\n",
    "    module = importlib.import_module(f\"use_cases.{module_name}\")\n",
    "    # Run the desired functionality for the module using use_case_data\n",
    "    module.combine(use_case_data, month, year)\n",
    "    \n",
    "# Read the JSON file\n",
    "with open('../use_cases.json') as file:\n",
    "    use_cases = json.load(file)\n",
    "    \n",
    "# Iterate over the JSON and execute the modules\n",
    "for use_case_name, use_case_data in use_cases.items():\n",
    "    module_name = use_case_data['module']\n",
    "    print(f\"Running {use_case_name}\")\n",
    "    # run_use_case(module_name, use_case_data, month, year)"
   ]
  }
 ],
 "metadata": {
  "kernelspec": {
   "display_name": "Python 3",
   "language": "python",
   "name": "python3"
  },
  "language_info": {
   "codemirror_mode": {
    "name": "ipython",
    "version": 3
   },
   "file_extension": ".py",
   "mimetype": "text/x-python",
   "name": "python",
   "nbconvert_exporter": "python",
   "pygments_lexer": "ipython3",
   "version": "3.11.3"
  },
  "orig_nbformat": 4
 },
 "nbformat": 4,
 "nbformat_minor": 2
}
