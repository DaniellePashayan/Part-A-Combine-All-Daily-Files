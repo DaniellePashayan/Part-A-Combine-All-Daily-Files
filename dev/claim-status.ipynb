{
 "cells": [
  {
   "cell_type": "code",
   "execution_count": 1,
   "metadata": {},
   "outputs": [],
   "source": [
    "import pandas as pd\n",
    "import os\n",
    "from glob import glob\n",
    "\n",
    "username = os.getlogin()\n",
    "folder_path = 'M:/CPP-Data/CBO Westbury Managers/LEADERSHIP/Bot Folder/Part A/Claim Status/Daily Reports/'"
   ]
  },
  {
   "cell_type": "code",
   "execution_count": 4,
   "metadata": {},
   "outputs": [],
   "source": [
    "def combine_claim_status(month: str, year: str):\n",
    "    if len(month) < 2:\n",
    "        month = \"0\" + month\n",
    "    #BusinessFile_Transaction Report - 2023-06-02 08-20-29 PM.xlsx\n",
    "    try:\n",
    "        files = pd.concat([pd.read_excel(file, sheet_name='Accounts').assign(file_name=os.path.basename(file)) for file in glob(f\"{folder_path}*{year}-{month}*.xlsx\") if \"Consolidated Files\" not in file and \"~\" not in file])\n",
    "        \n",
    "        files.columns = files.columns.str.strip() # remove leading and trailing spaces\n",
    "        if not os.path.exists(f'{folder_path}/Consolidated Files/'):\n",
    "            os.mkdir(f'{folder_path}/Consolidated Files/')\n",
    "        files.to_excel(f'{folder_path}/Consolidated Files/{year} {month} Combined.xlsx', index=False)\n",
    "        print(f\"Files combined for {year} {month}\")\n",
    "    except ValueError as e:\n",
    "        print(f\"No files for {year} {month}: {e}\")"
   ]
  },
  {
   "cell_type": "code",
   "execution_count": 8,
   "metadata": {},
   "outputs": [
    {
     "name": "stdout",
     "output_type": "stream",
     "text": [
      "Files combined for 2021 01\n"
     ]
    }
   ],
   "source": [
    "years = [\"2021\",\"2022\",\"2023\"]\n",
    "months = [\"01\", '02', '03', '04','05', '06', '07','08', '09', '10', '11', '12']\n",
    "\n",
    "for year in years:\n",
    "    for month in months:\n",
    "        combine_claim_status(month, year)"
   ]
  }
 ],
 "metadata": {
  "kernelspec": {
   "display_name": "Python 3",
   "language": "python",
   "name": "python3"
  },
  "language_info": {
   "codemirror_mode": {
    "name": "ipython",
    "version": 3
   },
   "file_extension": ".py",
   "mimetype": "text/x-python",
   "name": "python",
   "nbconvert_exporter": "python",
   "pygments_lexer": "ipython3",
   "version": "3.11.3"
  },
  "orig_nbformat": 4
 },
 "nbformat": 4,
 "nbformat_minor": 2
}
